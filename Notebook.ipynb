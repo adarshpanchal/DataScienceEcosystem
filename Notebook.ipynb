{
 "cells": [
  {
   "cell_type": "markdown",
   "id": "889362f0-de39-4bfc-a347-16d2d7b9ba1c",
   "metadata": {},
   "source": [
    "# Data Science Tools and Ecosystem"
   ]
  },
  {
   "cell_type": "markdown",
   "id": "35fc8713-baa2-41f2-963e-e7c0d7d34515",
   "metadata": {},
   "source": [
    "In this notebook, Data Science Tools and Ecosystem are summarized.\n"
   ]
  },
  {
   "cell_type": "markdown",
   "id": "4ce3e36d-8ed2-40c3-8077-1b0b000b113b",
   "metadata": {},
   "source": [
    "Some of the popular languages that Data Scientists use are:  \n",
    "\n",
    "1. Python  \n",
    "2. R  \n",
    "3. SQL  \n",
    "4. Julia"
   ]
  },
  {
   "cell_type": "markdown",
   "id": "a131358f-e0a5-4976-9820-642e5112c303",
   "metadata": {},
   "source": [
    "Some of the commonly used libraries used by Data Scientists include:  \n",
    "\n",
    "1. Pandas  \n",
    "2. NumPy  \n",
    "3. Scikit-learn  \n",
    "4. TensorFlow"
   ]
  },
  {
   "cell_type": "markdown",
   "id": "4252b747-537b-4e76-bb15-b1c17a83cd6c",
   "metadata": {},
   "source": [
    "| Data Science Tools |  \n",
    "|--------------------|  \n",
    "| Jupyter Notebook  |  \n",
    "| RStudio          |  \n",
    "| Apache Zeppelin  |  \n"
   ]
  },
  {
   "cell_type": "markdown",
   "id": "57bc623b-e84c-49af-b6f2-68cd97765378",
   "metadata": {},
   "source": [
    "### Below are a few examples of evaluating arithmetic expressions in Python.\n"
   ]
  },
  {
   "cell_type": "code",
   "execution_count": 1,
   "id": "35ae9f15-91ad-4281-9757-ba67a873ea92",
   "metadata": {},
   "outputs": [
    {
     "data": {
      "text/plain": [
       "17"
      ]
     },
     "execution_count": 1,
     "metadata": {},
     "output_type": "execute_result"
    }
   ],
   "source": [
    "# This is a simple arithmetic expression to multiply then add integers\n",
    "(3*4)+5\n"
   ]
  },
  {
   "cell_type": "code",
   "execution_count": 2,
   "id": "73d5f7ee-bed9-4f4b-9ebc-2eb891513403",
   "metadata": {},
   "outputs": [
    {
     "data": {
      "text/plain": [
       "3.3333333333333335"
      ]
     },
     "execution_count": 2,
     "metadata": {},
     "output_type": "execute_result"
    }
   ],
   "source": [
    "# This will convert 200 minutes to hours by dividing by 60\n",
    "200 / 60\n"
   ]
  },
  {
   "cell_type": "markdown",
   "id": "70fed026-ce16-43f0-9b0c-f328087347f2",
   "metadata": {},
   "source": [
    "**Objectives:**  \n",
    "\n",
    "- Python\n",
    "- R \n",
    "- Numpy\n",
    "- matplotlib"
   ]
  },
  {
   "cell_type": "markdown",
   "id": "b49bef68-be41-4973-bbeb-0436ee2a4b51",
   "metadata": {},
   "source": [
    "## Author  \n",
    "Adarsh Panchal\n"
   ]
  },
  {
   "cell_type": "code",
   "execution_count": null,
   "id": "e7b8aa3f-2422-4600-abea-4c9e2a31bbc4",
   "metadata": {},
   "outputs": [],
   "source": []
  }
 ],
 "metadata": {
  "kernelspec": {
   "display_name": "Python 3 (ipykernel)",
   "language": "python",
   "name": "python3"
  },
  "language_info": {
   "codemirror_mode": {
    "name": "ipython",
    "version": 3
   },
   "file_extension": ".py",
   "mimetype": "text/x-python",
   "name": "python",
   "nbconvert_exporter": "python",
   "pygments_lexer": "ipython3",
   "version": "3.12.8"
  }
 },
 "nbformat": 4,
 "nbformat_minor": 5
}
